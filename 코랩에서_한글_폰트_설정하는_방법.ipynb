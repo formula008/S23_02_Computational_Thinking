{
  "nbformat": 4,
  "nbformat_minor": 0,
  "metadata": {
    "colab": {
      "provenance": [],
      "authorship_tag": "ABX9TyM3F/EQSOxD1ksiTja+uXl8",
      "include_colab_link": true
    },
    "kernelspec": {
      "name": "python3",
      "display_name": "Python 3"
    },
    "language_info": {
      "name": "python"
    }
  },
  "cells": [
    {
      "cell_type": "markdown",
      "metadata": {
        "id": "view-in-github",
        "colab_type": "text"
      },
      "source": [
        "<a href=\"https://colab.research.google.com/github/formula008/S23_02_Computational_Thinking/blob/main/%EC%BD%94%EB%9E%A9%EC%97%90%EC%84%9C_%ED%95%9C%EA%B8%80_%ED%8F%B0%ED%8A%B8_%EC%84%A4%EC%A0%95%ED%95%98%EB%8A%94_%EB%B0%A9%EB%B2%95.ipynb\" target=\"_parent\"><img src=\"https://colab.research.google.com/assets/colab-badge.svg\" alt=\"Open In Colab\"/></a>"
      ]
    },
    {
      "cell_type": "markdown",
      "source": [
        "코랩에서 한글 폰트 설정\n",
        "\n",
        "1 한글 폰트 코드 실행\n",
        "\n",
        "!sudo apt-get install -y fonts-nanum\n",
        "\n",
        "!sudo fc-cache -fv\n",
        "\n",
        "!rm ~/.cache/matplotlib -rf\n",
        "\n",
        "2 런타임 - 런타임 다시시작\n",
        "\n",
        "3 글꼴 지정 명령어"
      ],
      "metadata": {
        "id": "3kw-0ES7whXm"
      }
    }
  ]
}